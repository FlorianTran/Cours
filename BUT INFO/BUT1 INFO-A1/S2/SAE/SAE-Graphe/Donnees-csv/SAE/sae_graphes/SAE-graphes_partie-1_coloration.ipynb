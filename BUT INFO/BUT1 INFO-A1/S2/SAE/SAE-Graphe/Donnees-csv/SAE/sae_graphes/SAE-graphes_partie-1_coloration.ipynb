{
 "cells": [
  {
   "cell_type": "markdown",
   "metadata": {
    "id": "ig4qj29e6Mii"
   },
   "source": [
    "# Présentation de la partie 1 de la SAE sur les graphes\n",
    "\n",
    "Dans cette première partie de SAE sur les graphes, l'objectif est de pouvoir faire de la coloration de graphe, en utilisant l'algorithme de Welsh et Powell. La coloration de graphes sera utilisée pour établir un planning d'activités, pour plusieurs groupes de personnes, à partir des choix d'activités de chacun des groupes.\n",
    "\n",
    "La représentation choisie pour les graphes est une matrice d'adjacence, qui sera représentée par un tableau de tableau (les noms des sommets sont des entiers et seront numérotés en commençant à 0). Nous considérons que le nombre de sommets du graphe ne pourra pas être modifié une fois le graphe construit. Un tableau contenant le nom associé à chaque sommet sera également créé.\n"
   ]
  },
  {
   "cell_type": "markdown",
   "metadata": {},
   "source": [
    "### Présentation du problème et choix des activités\n",
    "\n",
    "L'office de tourisme de votre département organise des semaines d'activités en petits groupes. Chaque groupe peut choisir 3 activités. Chaque activité ne peut avoir lieu qu'une seule journée chaque semaine et tous les groupes inscrits à cette activité y participe ce jour-là. On souhaite minimiser le nombre total de journées dans la semaine pour pouvoir faire toutes les activités.\n",
    "\n",
    "Le premier onglet du document partagé https://uncloud.univ-nantes.fr/index.php/s/C7GToT824Me3FFJ donne les choix d'activités de chaque groupe. Chaque binôme doit ensuite choisir les 7 activités qu'il souhaite considérer et les indiquer dans l'onglet correspondant du document partagé (chaque binôme doit choisir parmi les activités du département assigné à son groupe)."
   ]
  },
  {
   "cell_type": "markdown",
   "metadata": {},
   "source": [
    "\n",
    "\n",
    "## Installation de graphviz pour pouvoir visualiser les graphes\n"
   ]
  },
  {
   "cell_type": "code",
   "execution_count": 22,
   "metadata": {
    "id": "dJOAb8jn6bx9"
   },
   "outputs": [
    {
     "name": "stdout",
     "output_type": "stream",
     "text": [
      "Requirement already satisfied: graphviz in c:\\users\\flori\\appdata\\local\\programs\\python\\python310\\lib\\site-packages (0.20)\n"
     ]
    },
    {
     "name": "stderr",
     "output_type": "stream",
     "text": [
      "WARNING: You are using pip version 22.0.4; however, version 22.1.2 is available.\n",
      "You should consider upgrading via the 'C:\\Users\\flori\\AppData\\Local\\Programs\\Python\\Python310\\python.exe -m pip install --upgrade pip' command.\n"
     ]
    },
    {
     "data": {
      "text/plain": [
       "('0.19.1', (2, 50, 0))"
      ]
     },
     "execution_count": 22,
     "metadata": {},
     "output_type": "execute_result"
    }
   ],
   "source": [
    "!pip install graphviz\n",
    "import graphviz\n",
    "graphviz.__version__, graphviz.version()"
   ]
  },
  {
   "cell_type": "markdown",
   "metadata": {
    "id": "Nvb-erzR_nnA"
   },
   "source": [
    "\n",
    "\n",
    "## Création d'une fonction de conversion d'un graphe, défini par une matrice d'adjacence, vers le format graphviz\n"
   ]
  },
  {
   "cell_type": "code",
   "execution_count": 23,
   "metadata": {
    "id": "JVyp5Hg4_udn"
   },
   "outputs": [],
   "source": [
    "def creation_graphe_graphviz(g):\n",
    "    # création d'un graphe non orienté\n",
    "    dot = graphviz.Graph()\n",
    "    \n",
    "    # ajout des sommets\n",
    "    for i in range(len(g)):\n",
    "        dot.node(str(i))\n",
    "    \n",
    "    # ajout des arcs\n",
    "    for i in range(len(g)):\n",
    "        for j in range(i):\n",
    "            if g[i][j] == 1:\n",
    "                dot.edge(str(i), str(j))\n",
    "    \n",
    "    return dot"
   ]
  },
  {
   "cell_type": "markdown",
   "metadata": {},
   "source": [
    "## Création du graphe non orienté correspondant au problème\n"
   ]
  },
  {
   "cell_type": "markdown",
   "metadata": {},
   "source": [
    "#### Création du graphe, au format tableau de tableau, et du tableau des noms de sommets\n"
   ]
  },
  {
   "cell_type": "code",
   "execution_count": 24,
   "metadata": {},
   "outputs": [],
   "source": [
    "graphe = [[0,1,0,0,0,1,0],\n",
    "          [1,0,0,0,1,1,0],\n",
    "          [0,0,0,1,0,0,1],\n",
    "          [0,0,1,0,1,0,1],\n",
    "          [0,1,0,1,0,1,1],\n",
    "          [1,1,0,0,1,0,0],\n",
    "          [0,0,1,1,1,0,0]]\n",
    "noms_sommets = [\"aquagym\",\"mini-golf\",\"bowling\",\"paintball\",\"aquabulle\",\"canoë kayak\",\"city stade\"]\n"
   ]
  },
  {
   "cell_type": "markdown",
   "metadata": {},
   "source": [
    "#### Création et affichage du graphe associé, au format graphviz\n"
   ]
  },
  {
   "cell_type": "code",
   "execution_count": 25,
   "metadata": {},
   "outputs": [
    {
     "data": {
      "image/svg+xml": "<?xml version=\"1.0\" encoding=\"UTF-8\" standalone=\"no\"?>\n<!DOCTYPE svg PUBLIC \"-//W3C//DTD SVG 1.1//EN\"\n \"http://www.w3.org/Graphics/SVG/1.1/DTD/svg11.dtd\">\n<!-- Generated by graphviz version 2.50.0 (20211204.2007)\n -->\n<!-- Pages: 1 -->\n<svg width=\"192pt\" height=\"260pt\"\n viewBox=\"0.00 0.00 192.00 260.00\" xmlns=\"http://www.w3.org/2000/svg\" xmlns:xlink=\"http://www.w3.org/1999/xlink\">\n<g id=\"graph0\" class=\"graph\" transform=\"scale(1 1) rotate(0) translate(4 256)\">\n<polygon fill=\"white\" stroke=\"transparent\" points=\"-4,4 -4,-256 188,-256 188,4 -4,4\"/>\n<!-- 0 -->\n<g id=\"node1\" class=\"node\">\n<title>0</title>\n<ellipse fill=\"none\" stroke=\"black\" cx=\"157\" cy=\"-18\" rx=\"27\" ry=\"18\"/>\n<text text-anchor=\"middle\" x=\"157\" y=\"-14.3\" font-family=\"Times New Roman,serif\" font-size=\"14.00\">0</text>\n</g>\n<!-- 1 -->\n<g id=\"node2\" class=\"node\">\n<title>1</title>\n<ellipse fill=\"none\" stroke=\"black\" cx=\"130\" cy=\"-90\" rx=\"27\" ry=\"18\"/>\n<text text-anchor=\"middle\" x=\"130\" y=\"-86.3\" font-family=\"Times New Roman,serif\" font-size=\"14.00\">1</text>\n</g>\n<!-- 1&#45;&#45;0 -->\n<g id=\"edge1\" class=\"edge\">\n<title>1&#45;&#45;0</title>\n<path fill=\"none\" stroke=\"black\" d=\"M136.4,-72.41C140.64,-61.41 146.19,-47.03 150.46,-35.96\"/>\n</g>\n<!-- 2 -->\n<g id=\"node3\" class=\"node\">\n<title>2</title>\n<ellipse fill=\"none\" stroke=\"black\" cx=\"27\" cy=\"-18\" rx=\"27\" ry=\"18\"/>\n<text text-anchor=\"middle\" x=\"27\" y=\"-14.3\" font-family=\"Times New Roman,serif\" font-size=\"14.00\">2</text>\n</g>\n<!-- 3 -->\n<g id=\"node4\" class=\"node\">\n<title>3</title>\n<ellipse fill=\"none\" stroke=\"black\" cx=\"54\" cy=\"-90\" rx=\"27\" ry=\"18\"/>\n<text text-anchor=\"middle\" x=\"54\" y=\"-86.3\" font-family=\"Times New Roman,serif\" font-size=\"14.00\">3</text>\n</g>\n<!-- 3&#45;&#45;2 -->\n<g id=\"edge2\" class=\"edge\">\n<title>3&#45;&#45;2</title>\n<path fill=\"none\" stroke=\"black\" d=\"M47.6,-72.41C43.36,-61.41 37.81,-47.03 33.54,-35.96\"/>\n</g>\n<!-- 4 -->\n<g id=\"node5\" class=\"node\">\n<title>4</title>\n<ellipse fill=\"none\" stroke=\"black\" cx=\"92\" cy=\"-162\" rx=\"27\" ry=\"18\"/>\n<text text-anchor=\"middle\" x=\"92\" y=\"-158.3\" font-family=\"Times New Roman,serif\" font-size=\"14.00\">4</text>\n</g>\n<!-- 4&#45;&#45;1 -->\n<g id=\"edge3\" class=\"edge\">\n<title>4&#45;&#45;1</title>\n<path fill=\"none\" stroke=\"black\" d=\"M100.81,-144.76C106.95,-133.46 115.11,-118.44 121.23,-107.15\"/>\n</g>\n<!-- 4&#45;&#45;3 -->\n<g id=\"edge4\" class=\"edge\">\n<title>4&#45;&#45;3</title>\n<path fill=\"none\" stroke=\"black\" d=\"M83.19,-144.76C77.05,-133.46 68.89,-118.44 62.77,-107.15\"/>\n</g>\n<!-- 5 -->\n<g id=\"node6\" class=\"node\">\n<title>5</title>\n<ellipse fill=\"none\" stroke=\"black\" cx=\"147\" cy=\"-234\" rx=\"27\" ry=\"18\"/>\n<text text-anchor=\"middle\" x=\"147\" y=\"-230.3\" font-family=\"Times New Roman,serif\" font-size=\"14.00\">5</text>\n</g>\n<!-- 5&#45;&#45;0 -->\n<g id=\"edge5\" class=\"edge\">\n<title>5&#45;&#45;0</title>\n<path fill=\"none\" stroke=\"black\" d=\"M151.25,-216.12C158.11,-186.84 170.44,-124.73 166,-72 164.98,-59.91 162.68,-46.43 160.65,-36.09\"/>\n</g>\n<!-- 5&#45;&#45;1 -->\n<g id=\"edge6\" class=\"edge\">\n<title>5&#45;&#45;1</title>\n<path fill=\"none\" stroke=\"black\" d=\"M144.95,-215.87C141.68,-188.58 135.33,-135.52 132.06,-108.19\"/>\n</g>\n<!-- 5&#45;&#45;4 -->\n<g id=\"edge7\" class=\"edge\">\n<title>5&#45;&#45;4</title>\n<path fill=\"none\" stroke=\"black\" d=\"M135.07,-217.81C125.84,-206.07 113.13,-189.89 103.91,-178.16\"/>\n</g>\n<!-- 6 -->\n<g id=\"node7\" class=\"node\">\n<title>6</title>\n<ellipse fill=\"none\" stroke=\"black\" cx=\"37\" cy=\"-234\" rx=\"27\" ry=\"18\"/>\n<text text-anchor=\"middle\" x=\"37\" y=\"-230.3\" font-family=\"Times New Roman,serif\" font-size=\"14.00\">6</text>\n</g>\n<!-- 6&#45;&#45;2 -->\n<g id=\"edge8\" class=\"edge\">\n<title>6&#45;&#45;2</title>\n<path fill=\"none\" stroke=\"black\" d=\"M32.75,-216.12C25.89,-186.84 13.56,-124.73 18,-72 19.02,-59.91 21.32,-46.43 23.35,-36.09\"/>\n</g>\n<!-- 6&#45;&#45;3 -->\n<g id=\"edge9\" class=\"edge\">\n<title>6&#45;&#45;3</title>\n<path fill=\"none\" stroke=\"black\" d=\"M39.05,-215.87C42.32,-188.58 48.67,-135.52 51.94,-108.19\"/>\n</g>\n<!-- 6&#45;&#45;4 -->\n<g id=\"edge10\" class=\"edge\">\n<title>6&#45;&#45;4</title>\n<path fill=\"none\" stroke=\"black\" d=\"M48.93,-217.81C58.16,-206.07 70.87,-189.89 80.09,-178.16\"/>\n</g>\n</g>\n</svg>\n",
      "text/plain": [
       "<graphviz.graphs.Graph at 0x21e2ee5cc10>"
      ]
     },
     "execution_count": 25,
     "metadata": {},
     "output_type": "execute_result"
    }
   ],
   "source": [
    "gdot = creation_graphe_graphviz(graphe)\n",
    "#print(gdot.source)\n",
    "gdot"
   ]
  },
  {
   "cell_type": "markdown",
   "metadata": {},
   "source": [
    "## Fonctions utiles pour manipuler les graphes"
   ]
  },
  {
   "cell_type": "markdown",
   "metadata": {},
   "source": [
    "#### Fonction qui construit un graphe vide (sans aretes), avec le nombre de sommets donné, et qui retourne la matrice d'adjacence correspondante"
   ]
  },
  {
   "cell_type": "code",
   "execution_count": 26,
   "metadata": {},
   "outputs": [],
   "source": [
    "def graphe_vide(n):\n",
    "    g = []\n",
    "    for i in range(n):\n",
    "        l = []\n",
    "        for j in range(n):\n",
    "            l.append(0)\n",
    "        g.append(l)\n",
    "    return g"
   ]
  },
  {
   "cell_type": "markdown",
   "metadata": {},
   "source": [
    "#### Fonction qui retourne vrai si l'arete, dont les numéros de sommets extrémités sont donnés, existe"
   ]
  },
  {
   "cell_type": "code",
   "execution_count": 27,
   "metadata": {},
   "outputs": [],
   "source": [
    "def est_arete(g, i, j):\n",
    "    return g[i][j]"
   ]
  },
  {
   "cell_type": "markdown",
   "metadata": {},
   "source": [
    "#### Fonction qui calcule le degré d'un sommet"
   ]
  },
  {
   "cell_type": "code",
   "execution_count": 28,
   "metadata": {},
   "outputs": [],
   "source": [
    "def degre(g, s):\n",
    "    res = 0\n",
    "    for i in range(len(g)):\n",
    "        if g[s][i] == 1:\n",
    "            res+=1\n",
    "        if g[i][s] == 1:\n",
    "            res+=1\n",
    "    return res"
   ]
  },
  {
   "cell_type": "code",
   "execution_count": 29,
   "metadata": {},
   "outputs": [],
   "source": [
    "def degres_totaux(g):\n",
    "    res = 0\n",
    "    tabRes = []\n",
    "    for i in range(len(g)):\n",
    "        res=degre(g,i)\n",
    "        tabRes.append(res/2.)\n",
    "        \n",
    "    return tabRes"
   ]
  },
  {
   "cell_type": "markdown",
   "metadata": {
    "id": "yDT5bRf6BnYR"
   },
   "source": [
    "\n",
    "\n",
    "## Fonction qui donne la coloration des sommets d'un graphe, en utilisant l'algorithme de Welsh-Powell, sous la forme d'une liste.\n"
   ]
  },
  {
   "cell_type": "markdown",
   "metadata": {},
   "source": [
    "#### Fonction qui trie les sommets selon leur degré décroissant et qui retourne la liste des sommets ainsi triée:-1"
   ]
  },
  {
   "cell_type": "code",
   "execution_count": 30,
   "metadata": {},
   "outputs": [],
   "source": [
    "def tri_sommets(g):\n",
    "    sommets = []\n",
    "    for i in range(len(g)):\n",
    "        sommets.append(i)\n",
    "    degre = degres_totaux(g)\n",
    "    \n",
    "    for i in range(1, len(degre)):\n",
    "        key = degre[i]\n",
    "        key2 = sommets[i]\n",
    "        j = i-1\n",
    "        while j >= 0 and key > degre[j] :\n",
    "                degre[j + 1] = degre[j]\n",
    "                sommets[j+1] = sommets[j]\n",
    "                j -= 1\n",
    "        degre[j + 1] = key\n",
    "        sommets[j + 1] = key2\n",
    "        \n",
    "            \n",
    "    sommets_tries = sommets\n",
    "    return sommets_tries, degre"
   ]
  },
  {
   "cell_type": "code",
   "execution_count": 31,
   "metadata": {},
   "outputs": [
    {
     "name": "stdout",
     "output_type": "stream",
     "text": [
      "tri des sommets du graphe 1, selon leur degré décroissant\n",
      "([4, 1, 3, 5, 6, 0, 2], [4.0, 3.0, 3.0, 3.0, 3.0, 2.0, 2.0])\n"
     ]
    }
   ],
   "source": [
    "# test de la fonction tri_sommets\n",
    "print(\"tri des sommets du graphe 1, selon leur degré décroissant\")\n",
    "print(tri_sommets(graphe))"
   ]
  },
  {
   "cell_type": "markdown",
   "metadata": {},
   "source": [
    "#### Fonction qui fait la coloration de sommets avec l'algorithme de Welsh-Powell"
   ]
  },
  {
   "cell_type": "code",
   "execution_count": 32,
   "metadata": {
    "id": "o5tEM1BiB2nN"
   },
   "outputs": [],
   "source": [
    "def coloration_sommets_welsh_powell(g):\n",
    "    couleurs = [-1] * len(g)\n",
    "    actual_color = 0\n",
    "    while -1 in couleurs:\n",
    "        for z in sorted([(i,y) for i, y in enumerate(g)], key=lambda x: sum(x[1]), reverse=True):\n",
    "            i = z[0]\n",
    "            couleur_adjacent = [couleurs[i] for i, x in enumerate(g[i]) if x == 1]\n",
    "            if couleurs[i] == -1 and actual_color not in couleur_adjacent:\n",
    "                couleurs[i] = actual_color\n",
    "        actual_color += 1\n",
    "    return couleurs"
   ]
  },
  {
   "cell_type": "code",
   "execution_count": 33,
   "metadata": {
    "colab": {
     "base_uri": "https://localhost:8080/"
    },
    "id": "Q-zes9LUCA0p",
    "outputId": "cb89f18c-aa0c-460f-a6ed-a5b039f20d6e"
   },
   "outputs": [
    {
     "name": "stdout",
     "output_type": "stream",
     "text": [
      "coloration des sommets du graphe\n",
      "[0, 1, 0, 1, 0, 2, 2]\n"
     ]
    }
   ],
   "source": [
    "# test de la fonction coloration_sommets_welsh_powell\n",
    "print(\"coloration des sommets du graphe\")\n",
    "couleurs_sommets = coloration_sommets_welsh_powell(graphe)\n",
    "print(couleurs_sommets)"
   ]
  },
  {
   "cell_type": "markdown",
   "metadata": {},
   "source": [
    "#### Fonction qui affiche un planning des activités par journée, à partir de la coloration calculée (en indiquant les noms des activités), en utilisant un dictionnaire"
   ]
  },
  {
   "cell_type": "code",
   "execution_count": 34,
   "metadata": {},
   "outputs": [],
   "source": [
    "def planning_activites(couleurs, sommets):\n",
    "    planning = {\"jour1\": [],\"jour2\": [],\"jour3\": []}\n",
    "    for i in range(len(couleurs)):\n",
    "        if couleurs[i] == 0:\n",
    "            planning[\"jour1\"].append(sommets[i])\n",
    "        if couleurs[i] == 1:\n",
    "            planning[\"jour2\"].append(sommets[i])\n",
    "        if couleurs[i] == 2:\n",
    "            planning[\"jour3\"].append(sommets[i])\n",
    "\n",
    "    return planning"
   ]
  },
  {
   "cell_type": "code",
   "execution_count": 35,
   "metadata": {},
   "outputs": [
    {
     "name": "stdout",
     "output_type": "stream",
     "text": [
      "planning des activités\n",
      "{'jour1': ['aquagym', 'bowling', 'aquabulle'], 'jour2': ['mini-golf', 'paintball'], 'jour3': ['canoë kayak', 'city stade']}\n"
     ]
    }
   ],
   "source": [
    "# test de la fonction planning_activites\n",
    "print(\"planning des activités\")\n",
    "planning = planning_activites(couleurs_sommets, noms_sommets)\n",
    "print(planning)"
   ]
  }
 ],
 "metadata": {
  "colab": {
   "collapsed_sections": [],
   "name": "coloration_graphes.ipynb",
   "provenance": []
  },
  "interpreter": {
   "hash": "0f2cdb2c5a4f7c304b0006a42f7f9b865c3b42c67e3cdb241abc8fedc129cf61"
  },
  "kernelspec": {
   "display_name": "Python 3.8.5 64-bit",
   "language": "python",
   "name": "python3"
  },
  "language_info": {
   "codemirror_mode": {
    "name": "ipython",
    "version": 3
   },
   "file_extension": ".py",
   "mimetype": "text/x-python",
   "name": "python",
   "nbconvert_exporter": "python",
   "pygments_lexer": "ipython3",
   "version": "3.8.5"
  }
 },
 "nbformat": 4,
 "nbformat_minor": 1
}
