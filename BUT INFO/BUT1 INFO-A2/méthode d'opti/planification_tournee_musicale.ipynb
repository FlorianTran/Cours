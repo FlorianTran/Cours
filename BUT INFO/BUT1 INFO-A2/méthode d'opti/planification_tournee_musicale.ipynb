{
 "cells": [
  {
   "attachments": {},
   "cell_type": "markdown",
   "metadata": {},
   "source": [
    "# Planification d'une tournée musicale\n",
    "\n",
    "Dans ce sujet de SAE, sur 2 séances encadrées, nous allons utiliser la formalisation d'un problème de résolution par l'exploration ainsi que les différents algorithmes de recherche vus en cours puis en TD pour traiter un problème d'organisation d'une tournée française d'un groupe de musique sous la forme d'un problème de voyageur de commerce.\n",
    "\n",
    "Dans le début de ce notebook, l'implémentation de la formalisation générique d'un problème de résolution par l'exploration ainsi que les différents algorithmes de recherche vus en cours puis en TD vous sont fournis. Vous aurez ensuite à compléter la classe `PlanificationTournee` pour résoudre ce problème sur des données qui vous sont fournies. Vous pourrez ensuite ajouter de nouvelles villes, en faisant appel à l'API Python d'Open Street Map, pour récupérer les distances avec vos nouvelles villes."
   ]
  },
  {
   "cell_type": "code",
   "execution_count": 5,
   "metadata": {},
   "outputs": [],
   "source": [
    "#from numpy.random import randint\n",
    "#import matplotlib.pyplot as plt\n",
    "#import random\n",
    "import heapq\n",
    "import math\n",
    "#import sys\n",
    "from collections import defaultdict, deque, Counter\n",
    "#from itertools import combinations\n",
    "\n",
    "#%pip install geopy\n",
    "from geopy.distance import great_circle as GRC"
   ]
  },
  {
   "attachments": {},
   "cell_type": "markdown",
   "metadata": {},
   "source": [
    "# Définition d'un problème\n",
    "\n",
    "On commence par définir une classe abstraite pour représenter un `Problem` qui sera résolu par l'exploration.\n",
    "\n",
    "On indique l'état initial et soit l'état final (s'il y en a un seul), soit la manière de savoir si on se trouve dans un état final (en redéfinissant la méthode `is_goal`, dans la sous-classe qui implémente la classe `Problem`). La sous-classe devra également implémenter le constructeur `__init__`(en ajoutant éventuellement d'autres paramètres) et les méthodes `actions`, `result` `action_cost` et `h`. \n"
   ]
  },
  {
   "cell_type": "code",
   "execution_count": 6,
   "metadata": {},
   "outputs": [],
   "source": [
    "class Problem:\n",
    "    \"\"\"The abstract class for a formal problem. A new domain subclasses this,\n",
    "    overriding `actions` and `results`, and perhaps other methods.\n",
    "    The default action cost is 1 for all states.\n",
    "    When you create an instance of a subclass, specify `initial`, and `goal` states \n",
    "    (or give an `is_goal` method) and perhaps other arguments for the subclass.\"\"\"\n",
    "\n",
    "    def __init__(self, initial=None, goal=None): \n",
    "        \"\"\"The constructor specifies the initial state, and possibly a goal\n",
    "        state, if there is a unique goal. Your subclass's constructor can add\n",
    "        other arguments.\"\"\"\n",
    "        self.initial = initial\n",
    "        self.goal = goal\n",
    "        \n",
    "        \n",
    "    def actions(self, state):     \n",
    "        \"\"\"Return the actions that can be executed in the given\n",
    "        state. The result would typically be a list, but if there are\n",
    "        many actions, consider yielding them one at a time in an\n",
    "        iterator, rather than building them all at once.\"\"\"   \n",
    "        raise NotImplementedError\n",
    "    \n",
    "    def result(self, state, action): \n",
    "        \"\"\"Return the state that results from executing the given\n",
    "        action in the given state. The action must be one of\n",
    "        self.actions(state).\"\"\"\n",
    "        raise NotImplementedError\n",
    "    \n",
    "    \n",
    "    def is_goal(self, state):   \n",
    "        \"\"\"Return True if the state is a goal. The default method compares the\n",
    "        state to self.goal or checks for state in self.goal if it is a\n",
    "        list, as specified in the constructor.\"\"\"     \n",
    "        return state == self.goal\n",
    "    \n",
    "    \n",
    "    def action_cost(self, s, a, s1): \n",
    "        \"\"\"Return the cost of an action a from state s to state s1.\"\"\"\n",
    "        return 1\n",
    "    \n",
    "    \n",
    "    def h(self, node):  \n",
    "        \"\"\"Returns least possible cost to reach a goal for the state in given node.\"\"\"             \n",
    "        return 0\n",
    "    \n",
    "    \n",
    "    def __str__(self):\n",
    "        return '{}({!r}, {!r})'.format(\n",
    "            type(self).__name__, self.initial, self.goal)"
   ]
  },
  {
   "attachments": {},
   "cell_type": "markdown",
   "metadata": {},
   "source": [
    "# Définition d'un noeud\n",
    "\n",
    "Dans la classe `Node`, on définit un noeud dans un arbre de recherche.\n",
    "Le noeud contient un pointeur vers son noeud parent `parent` ainsi que vers l'état `state` auquel il correspond (la notion d'état sera défini au moment de la définition du problème représenté). Il est à noter que si un état peut être atteint par 2 chemins, il y aura alors 2 noeuds contenant le même état. Le noeud contient également l'action `action` qui a permis d'atteindre l'état associé au noeud ainsi que le coût total `path_cost` du chemin allant du noeud initial au noeud courant (correspondant à la valeur g dans les algorithmes d'exploration)."
   ]
  },
  {
   "cell_type": "code",
   "execution_count": 7,
   "metadata": {},
   "outputs": [],
   "source": [
    "class Node:\n",
    "    \"A Node in a search tree.\"\n",
    "    \n",
    "    def __init__(self, state, parent=None, action=None, path_cost=0):\n",
    "        self.state = state\n",
    "        self.parent = parent\n",
    "        self.action = action\n",
    "        self.path_cost = path_cost\n",
    "\n",
    "\n",
    "    def __repr__(self): \n",
    "        return '<{}>'.format(self.state)\n",
    "    \n",
    "    \n",
    "    def __len__(self): \n",
    "        return 0 if self.parent is None else (1 + len(self.parent))\n",
    "    \n",
    "    \n",
    "    def __lt__(self, other): \n",
    "        return self.path_cost < other.path_cost\n",
    "    "
   ]
  },
  {
   "attachments": {},
   "cell_type": "markdown",
   "metadata": {},
   "source": [
    "## Fonctions relatives aux noeuds d'un arbre de recherche\n",
    "\n",
    "On définit également quelques fonctions sur les noeuds : `expand` pour générer les noeuds successeurs d'un noeud donné, `path_actions` pour récupérer la liste d'actions ayant permis d'arriver jusqu'au noeud et `path_states` pour récupérer la liste des états ayant permis d'arriver jusqu'au noeud.\n"
   ]
  },
  {
   "cell_type": "code",
   "execution_count": 8,
   "metadata": {},
   "outputs": [],
   "source": [
    "def expand(problem, node):\n",
    "    \"Expand a node, generating the children nodes (see slide 18 in the lecture).\"\n",
    "    s = node.state\n",
    "    succs = []\n",
    "    for action in problem.actions(s):\n",
    "        s1 = problem.result(s, action)\n",
    "        cost = node.path_cost + problem.action_cost(s, action, s1)\n",
    "        succs.append(Node(s1, node, action, cost))\n",
    "    return succs\n",
    "        \n",
    "\n",
    "def path_actions(node):\n",
    "    \"The list of actions to get to this node.\"\n",
    "    if node.parent is None:\n",
    "        return []  \n",
    "    return path_actions(node.parent) + [node.action]\n",
    "\n",
    "\n",
    "def path_states(node):\n",
    "    \"The list of states to get to this node.\"\n",
    "    #if node in (failure, None): \n",
    "    if node.parent is None:\n",
    "        return [node.state]\n",
    "    return path_states(node.parent) + [node.state]"
   ]
  },
  {
   "attachments": {},
   "cell_type": "markdown",
   "metadata": {},
   "source": [
    "# Différents types de files pour implémenter la frontière\n",
    "\n",
    "Les files FIFO et LIFO sont utilisées, respectivement, pour implémenter la `frontière` dans l'exploration en largeur et dans l'exploration en profondeur. La file de priorié `PriorityQueue` est utilisée dans l'exploration gloutonne et dans l'exploration A* pour garder la frontière triée en fonction du score croissant `f(item)`."
   ]
  },
  {
   "cell_type": "code",
   "execution_count": 9,
   "metadata": {},
   "outputs": [],
   "source": [
    "FIFOQueue = deque\n",
    "\n",
    "LIFOQueue = list\n",
    "\n",
    "class PriorityQueue:\n",
    "    \"\"\"A queue in which the item with minimum f(item) is always popped first.\"\"\"\n",
    "\n",
    "    def __init__(self, items=(), key=lambda x: x): \n",
    "        self.key = key\n",
    "        self.items = [] # a heap of (score, item) pairs\n",
    "        for item in items:\n",
    "            self.add(item)\n",
    "         \n",
    "    def add(self, item):\n",
    "        \"\"\"Add item to the queue.\"\"\"\n",
    "        pair = (self.key(item), item)\n",
    "        heapq.heappush(self.items, pair)\n",
    "\n",
    "    def pop(self):\n",
    "        \"\"\"Pop and return the item with min f(item) value.\"\"\"\n",
    "        return heapq.heappop(self.items)[1]\n",
    "    \n",
    "    def top(self): \n",
    "        return self.items[0][1]\n",
    "\n",
    "    def __len__(self): \n",
    "        return len(self.items)\n"
   ]
  },
  {
   "attachments": {},
   "cell_type": "markdown",
   "metadata": {},
   "source": [
    "# Algorithmes de recherche\n",
    "\n",
    "Les algorithmes de recherche non-informée (exploration en largeur et exploration en profondeur, en mémorisant ou non les états déjà exploras) ainsi que les algorithmes de recherche informée (exploration gloutonne et A*) seront implémentés ici."
   ]
  },
  {
   "cell_type": "code",
   "execution_count": 10,
   "metadata": {},
   "outputs": [],
   "source": [
    "# Noeud particulier pour indiquer qu'un algorithme ne peut pas trouver de solution    \n",
    "failure = Node('failure', path_cost=math.inf)"
   ]
  },
  {
   "attachments": {},
   "cell_type": "markdown",
   "metadata": {},
   "source": [
    "## Exploration en largeur de l'arbre de recherche\n"
   ]
  },
  {
   "cell_type": "code",
   "execution_count": 11,
   "metadata": {},
   "outputs": [],
   "source": [
    "def breadth_first_tree_search(problem):\n",
    "    \"\"\"Search the shallowest nodes in the search tree first.\n",
    "    Search through the successors of a problem to find a goal.\n",
    "    The argument frontier should be an empty queue.\n",
    "    Repeats infinitely in case of loops.\"\"\"\n",
    "    frontier = FIFOQueue([Node(problem.initial)])  # FIFO queue\n",
    "\n",
    "    while frontier:\n",
    "        node = frontier.popleft()\n",
    "        #print(node)\n",
    "        if problem.is_goal(node.state):\n",
    "            return node\n",
    "        frontier.extend(expand(problem, node))\n",
    "    return None"
   ]
  },
  {
   "attachments": {},
   "cell_type": "markdown",
   "metadata": {},
   "source": [
    "## Exploration en largeur du graphe des états\n"
   ]
  },
  {
   "cell_type": "code",
   "execution_count": 12,
   "metadata": {},
   "outputs": [],
   "source": [
    "def breadth_first_graph_search(problem):\n",
    "    \"\"\"Search the shallowest nodes in the search tree first.\n",
    "    Search through the successors of a problem to find a goal.\n",
    "    The argument frontier should be an empty queue.\n",
    "    Does not get trapped by loops.\n",
    "    If two paths reach a state, only use the first one.\n",
    "    \"\"\"\n",
    "    node = Node(problem.initial)\n",
    "    if problem.is_goal(node.state):\n",
    "        return node\n",
    "    frontier = FIFOQueue([node])\n",
    "    explored = set()\n",
    "    while frontier:\n",
    "        node = frontier.popleft()\n",
    "        if problem.is_goal(node.state):\n",
    "            return node\n",
    "        explored.add(node.state)\n",
    "        for child in expand(problem, node):\n",
    "            if child.state not in explored and child not in frontier:\n",
    "                frontier.append(child)\n",
    "    return None"
   ]
  },
  {
   "attachments": {},
   "cell_type": "markdown",
   "metadata": {},
   "source": [
    "## Exploration en profondeur de l'arbre de recherche\n"
   ]
  },
  {
   "cell_type": "code",
   "execution_count": 13,
   "metadata": {},
   "outputs": [],
   "source": [
    "def depth_first_tree_search(problem):\n",
    "    \"\"\"Search the deepest nodes in the search tree first.\n",
    "    Search through the successors of a problem to find a goal.\n",
    "    The argument frontier should be an empty queue.\n",
    "    Repeats infinitely in case of loops.\n",
    "    \"\"\"\n",
    "    frontier = LIFOQueue([Node(problem.initial)])  # Stack\n",
    "\n",
    "    while frontier:\n",
    "        node = frontier.pop()\n",
    "        if problem.is_goal(node.state):\n",
    "            return node\n",
    "        frontier.extend(expand(problem, node))\n",
    "    return None"
   ]
  },
  {
   "attachments": {},
   "cell_type": "markdown",
   "metadata": {},
   "source": [
    "## Exploration en profondeur du graphe des états"
   ]
  },
  {
   "cell_type": "code",
   "execution_count": 14,
   "metadata": {},
   "outputs": [],
   "source": [
    "def depth_first_graph_search(problem):\n",
    "    \"\"\"Search the deepest nodes in the search tree first.\n",
    "    Search through the successors of a problem to find a goal.\n",
    "    The argument frontier should be an empty queue.\n",
    "    Does not get trapped by loops.\n",
    "    If two paths reach a state, only use the first one.\n",
    "    \"\"\"\n",
    "    frontier = LIFOQueue([(Node(problem.initial))])  # Stack\n",
    "\n",
    "    explored = set()\n",
    "    while frontier:\n",
    "        node = frontier.pop()\n",
    "        if problem.is_goal(node.state):\n",
    "            return node\n",
    "        explored.add(node.state)\n",
    "        frontier.extend(child for child in expand(problem, node)\n",
    "                        if child.state not in explored and child not in frontier)\n",
    "    return None"
   ]
  },
  {
   "attachments": {},
   "cell_type": "markdown",
   "metadata": {},
   "source": [
    "## Exploration gloutonne du graphe des états\n"
   ]
  },
  {
   "cell_type": "code",
   "execution_count": 15,
   "metadata": {},
   "outputs": [],
   "source": [
    "def greedy_graph_search(problem, h=None):\n",
    "    \"\"\"Search nodes with minimum h(n).\"\"\"\n",
    "    node = Node(problem.initial)\n",
    "    frontier = PriorityQueue([node], key=h)\n",
    "    reached = {problem.initial: node}\n",
    "    while frontier:\n",
    "        node = frontier.pop()\n",
    "        if problem.is_goal(node.state):\n",
    "            return node\n",
    "        for child in expand(problem, node):\n",
    "            s = child.state\n",
    "            if s not in reached or child.path_cost < reached[s].path_cost:\n",
    "                reached[s] = child\n",
    "                frontier.add(child)\n",
    "    return failure"
   ]
  },
  {
   "attachments": {},
   "cell_type": "markdown",
   "metadata": {},
   "source": [
    "## Exploration A* du graphe des états\n"
   ]
  },
  {
   "cell_type": "code",
   "execution_count": 16,
   "metadata": {},
   "outputs": [],
   "source": [
    "def astar_graph_search(problem, f=None):\n",
    "    \"\"\"Search nodes with minimum f(n) = g(n) + h(n).\"\"\"\n",
    "    node = Node(problem.initial)\n",
    "    frontier = PriorityQueue([node], key=f)\n",
    "    reached = {problem.initial: node}\n",
    "    while frontier:\n",
    "        node = frontier.pop()\n",
    "        if problem.is_goal(node.state):\n",
    "            return node\n",
    "        for child in expand(problem, node):\n",
    "            s = child.state\n",
    "            if s not in reached or child.path_cost < reached[s].path_cost:\n",
    "                reached[s] = child\n",
    "                frontier.add(child)\n",
    "    return failure"
   ]
  },
  {
   "attachments": {},
   "cell_type": "markdown",
   "metadata": {},
   "source": [
    "# Définition d'une carte\n",
    "\n",
    "On commence par définir la classe `Map` (pour représenter les villes d'une carte). \n",
    "Une carte contient les coordonnées gps des villes considérées (correspondant à l'attribut `coords`) ainsi que les distances réelles (c'est-à-dire en ne passant que par des routes existantes) entre certains couples de villes (correspondant à l'attribut `distances`, représenté par un dictionnaire dont la clé est une paire de noms de villes ; chaque ville est désignée par son nom). Le graphe considéré n'est donc pas toujours un graphe complet (on ne donne pas les distances réelles entre tous les couples de villes qu'on pourrait former). \n"
   ]
  },
  {
   "attachments": {},
   "cell_type": "markdown",
   "metadata": {},
   "source": [
    "#### Question 1 : compléter la méthode `neighbors(city)` et la fonction `neighbors_not_visited(map, state)`."
   ]
  },
  {
   "cell_type": "code",
   "execution_count": 126,
   "metadata": {},
   "outputs": [],
   "source": [
    "class Map:\n",
    "    \n",
    "    def __init__(self, distances=None, locations=None):\n",
    "        '''Constructeur avec un dictionnaire de distances réelles entre paires de villes \n",
    "        et un dictionnaire de coordonnées gps pour chaque ville'''\n",
    "        self.distances = distances\n",
    "        self.locations = locations\n",
    "        \n",
    "    \n",
    "    def distance(self, city1, city2):\n",
    "        ''' Retourne la distance réelle entre les villes city1 et city2'''\n",
    "        return self.distances[(city1, city2)]\n",
    "\n",
    "\n",
    "    def location(self, city):\n",
    "        ''' Retourne les coordonnées de la ville city sous la forme (longitude, latitude)'''\n",
    "        return self.locations[city]\n",
    "    \n",
    "    \n",
    "    def nb_cities_map(self):\n",
    "        ''' Retourne le nombre de villes différentes de la carte'''\n",
    "        return len(self.locations)\n",
    "    \n",
    "    \n",
    "    def is_neighbor(self, city, city1):\n",
    "        '''Retourne vrai si city1 est une ville voisine de city, c'est-à-dire s'il existe\n",
    "        une route (et donc une distance réelle) entre city et city1'''\n",
    "        return (city, city1) in self.distances\n",
    "    \n",
    "\n",
    "    def neighbors(self, city):\n",
    "        ''' Retourne les villes voisines de city, c'est-à-dire accessibles directement par une route'''\n",
    "        # utilisation d'un ensemble pour les doublons\n",
    "        neighbors = set()\n",
    "        for i in self.distances:\n",
    "            if city in i:\n",
    "                # l'opérateur != c'est l'union\n",
    "                neighbors |= set(i) - {city}\n",
    "        return list(neighbors)\n",
    "\n",
    "# autres fonctions\n",
    "def cities_state(state):\n",
    "    '''Retourne la liste des villes contenues dans l'état state'''\n",
    "    return state.split(\" ; \")\n",
    "    \n",
    "\n",
    "def neighbors_not_visited(map, state):\n",
    "    \"\"\"Retourne la liste des villes voisines de la dernière ville atteinte dans l'état state \n",
    "    mais qui n'ont pas déjà été visitées dans l'état state.\n",
    "    \"\"\"\n",
    "    cities_visited = cities_state(state)\n",
    "    last_city = cities_state(state)[-1]\n",
    "    neighbors_not_visited = [city for city in map.neighbors(last_city) if city not in cities_visited]\n",
    "    return neighbors_not_visited\n"
   ]
  },
  {
   "attachments": {},
   "cell_type": "markdown",
   "metadata": {},
   "source": [
    "## Test de la classe Map"
   ]
  },
  {
   "cell_type": "code",
   "execution_count": 127,
   "metadata": {},
   "outputs": [
    {
     "name": "stdout",
     "output_type": "stream",
     "text": [
      "\n",
      "Test de la méthode neighbors()\n",
      "Villes voisines de Nantes : ['Caen', 'Rennes', 'Angers', 'Le Mans', 'Angers', 'Caen', 'Rennes', 'Clermont-Ferrand', 'La Rochelle', 'Clermont-Ferrand']\n",
      "Villes voisines de Toulouse : ['Bordeaux', 'Bordeaux', 'Clermont-Ferrand', 'Clermont-Ferrand']\n",
      "\n",
      "Test du calcul de distances avec geopy\n",
      "La distance entre Nantes et Rennes est :  99.59926360928667\n",
      "La distance entre Nantes et Angers est :  82.91041688605041\n",
      "\n",
      "Test de la fonction neighbors_not_visited()\n",
      "voisins non visités de \" Nantes \" :  ['Caen', 'Rennes', 'Angers', 'Le Mans', 'Angers', 'Caen', 'Rennes', 'Clermont-Ferrand', 'La Rochelle', 'Clermont-Ferrand']\n",
      "voisins non visités de \" Le Mans ; Nantes \" :  ['Caen', 'Rennes', 'Angers', 'Angers', 'Caen', 'Rennes', 'Clermont-Ferrand', 'La Rochelle', 'Clermont-Ferrand']\n",
      "voisins non visités de \" Le Mans ; Angers ; Nantes \" :  ['Caen', 'Rennes', 'Caen', 'Rennes', 'Clermont-Ferrand', 'La Rochelle', 'Clermont-Ferrand']\n"
     ]
    }
   ],
   "source": [
    "# Une première carte avec 10 villes\n",
    "tour1 = Map(\n",
    "    {('Caen', 'Rennes'): 185, ('Caen', 'Nantes'): 271, ('Caen', 'Le Mans'): 160,\n",
    "     ('Rennes', 'Caen'): 184, ('Rennes', 'Le Mans'): 157, ('Rennes', 'Nantes'): 123,\n",
    "     ('Le Mans', 'Caen'): 165, ('Le Mans', 'Rennes'): 162, ('Le Mans', 'Angers'): 90, ('Le Mans', 'Orléans'): 137,\n",
    "     ('Orléans', 'Le Mans'): 138, ('Orléans', 'Angers'): 221, ('Orléans', 'Clermont-Ferrand'): 301,\n",
    "     ('Angers', 'Le Mans'): 98, ('Angers', 'Nantes'): 92, ('Angers', 'Orléans'): 221, ('Angers', 'Clermont-Ferrand'): 405,\n",
    "     ('Nantes', 'Le Mans'): 177, ('Nantes', 'Angers'): 93, ('Nantes', 'Caen'): 274, ('Nantes', 'Rennes'): 122, ('Nantes', 'Clermont-Ferrand'): 468,\n",
    "     ('La Rochelle', 'Nantes'): 148, ('La Rochelle', 'Bordeaux'): 199, ('La Rochelle', 'Clermont-Ferrand'): 391,\n",
    "     ('Bordeaux', 'La Rochelle'): 202, ('Bordeaux', 'Toulouse'): 249, ('Bordeaux', 'Clermont-Ferrand'): 371,\n",
    "     ('Toulouse', 'Bordeaux'): 246, ('Toulouse', 'Clermont-Ferrand'): 368,\n",
    "     ('Clermont-Ferrand', 'Toulouse'): 367, ('Clermont-Ferrand', 'Bordeaux'): 372, ('Clermont-Ferrand', 'La Rochelle'): 393,\n",
    "     ('Clermont-Ferrand', 'Nantes'): 450, ('Clermont-Ferrand', 'Angers'): 400, ('Clermont-Ferrand', 'Orléans'): 301\n",
    "     },\n",
    "    {'Nantes': (47.21, -1.56), 'Angers': (47.49, -0.54),\n",
    "     'Orléans': (47.90, 1.89), 'Rennes': (48.10, -1.71),\n",
    "     'La Rochelle': (46.16, -1.22), 'Caen': (49.21, -0.34),\n",
    "     'Le Mans': (47.96, 0.20), 'Bordeaux': (44.86, -0.52),\n",
    "     'Toulouse': (43.57, 1.32), 'Clermont-Ferrand': (45.79, 3.10)\n",
    "     })\n",
    "\n",
    "\n",
    "node1 = Node(\"Nantes\")\n",
    "node2 = Node(\"Le Mans ; Nantes\")\n",
    "node3 = Node(\"Le Mans ; Angers ; Nantes\")\n",
    "\n",
    "\n",
    "\n",
    "# test de la méthode neighbors\n",
    "print(\"\\nTest de la méthode neighbors()\")\n",
    "print(\"Villes voisines de Nantes : \" + str(tour1.neighbors('Nantes')))\n",
    "print(\"Villes voisines de Toulouse : \" + str(tour1.neighbors('Toulouse')))\n",
    "\n",
    "\n",
    "# calcul de la distance \"à vol d'oiseau\" entre 2 villes, en utilisant la module geodesic\n",
    "print(\"\\nTest du calcul de distances avec geopy\")\n",
    "nantes = (47.21, -1.56)\n",
    "rennes = (48.10, -1.71)\n",
    "angers = (47.49, -0.54)\n",
    "print(\"La distance entre Nantes et Rennes est : \", GRC(nantes, rennes).km)\n",
    "print(\"La distance entre Nantes et Angers est : \", GRC(nantes, angers).km)\n",
    "\n",
    "\n",
    "# test de la fonction neighbors_not_visited\n",
    "print(\"\\nTest de la fonction neighbors_not_visited()\")\n",
    "print('voisins non visités de \"', node1.state, '\" : ',\n",
    "      neighbors_not_visited(tour1, node1.state))\n",
    "print('voisins non visités de \"', node2.state, '\" : ',\n",
    "      neighbors_not_visited(tour1, node2.state))\n",
    "print('voisins non visités de \"', node3.state, '\" : ',\n",
    "      neighbors_not_visited(tour1, node3.state))\n"
   ]
  },
  {
   "attachments": {},
   "cell_type": "markdown",
   "metadata": {},
   "source": [
    "# Planification d'une tournée musicale\n",
    "\n",
    "Pour résoudre le problème de planification d'une tournée musicale, on définit la classe `MusicTourProblem`. La résolution de ce problème consiste à partir d'une ville de départ et à parcourir toutes les autres villes données, une et une seule fois, **puis revenir dans la ville de départ**, en minimisant le trajet total.\n",
    "\n",
    "Un état est représenté par une chaîne de caractères et contient la séquence des noms complets des villes déjà parcourues, séparées par des point-virgules (par exemple, `'Nantes ; Rennes ; Angers'`). \n",
    "\n",
    "Les actions sont également des chaînes de caractères et chaque action correspond au nom complet d'une ville ; par exemple, l'action `'Nantes'` correspond à l'action de se déplacer dans la ville de `'Nantes'`. \n",
    "\n",
    "Les liaisons possibles entre les villes sont données grâce à l'objet de type `Map`, qui correspond à un graphe orienté, dans lequel les sommets sont les villes (avec leurs coordonnées gps) et les arcs sont les routes existantes entre 2 villes (avec la distance entre les villes).\n",
    "\n",
    "L'heuristique utilisée correspond à la \"distance à vol d'oiseau\" minimale entre la dernière ville parcourue et les villes non encore parcourues (utilisez la fonction `great_circle` de `geopy.distance`). S'il ne reste plus de villes non encore parcourues, l'heuristique vaudra 0. "
   ]
  },
  {
   "attachments": {},
   "cell_type": "markdown",
   "metadata": {},
   "source": [
    "#### Question 2 : compléter la classe `MusicTourProblem`."
   ]
  },
  {
   "cell_type": "code",
   "execution_count": 246,
   "metadata": {},
   "outputs": [],
   "source": [
    "class MusicTourProblem(Problem):\n",
    "    \n",
    "    def __init__(self, initial=None, goal=None, map=None):\n",
    "        '''Constructeur de la classe avec une carte comme attribut (en plus de l'état intial)'''\n",
    "        super().__init__(initial, goal)\n",
    "        self.map = map\n",
    "    \n",
    "    \n",
    "    def actions(self, state): \n",
    "        '''Retourne la liste des actions possibles à partir de l'état state, \n",
    "        c'est-à-dire la liste des villes voisines non encore explorées dans l'état \n",
    "        (en autorisant de revenir dans la ville de départ si on a exploré toutes les villes)'''\n",
    "        actions = []\n",
    "        neighbors = neighbors_not_visited(self.map, cities_state(state)[-1])\n",
    "        for i in neighbors:\n",
    "            if i not in cities_state(state) and i not in actions:\n",
    "                actions.append(i)\n",
    "        #TODO : faire la fin:\n",
    "        #? \"en autorisant de revenir dans la ville de départ si on a exploré toutes les villes\"\n",
    "        return actions\n",
    "    \n",
    "    \n",
    "    def result(self, state, action):\n",
    "        '''Retourne l'état obtenu en effectuant l'action choisie à partir de state,\n",
    "        c'est-à-dire on concatène la ville correspondant à l'action à la fin de state'''\n",
    "        return state  + \" ; \" + action\n",
    "    \n",
    "    \n",
    "    def is_goal(self, state):   \n",
    "        '''L'état state est un état final s'il contient toutes les villes de la carte\n",
    "        et que la dernière ville de l'état est aussi celle de départ (la ville de départ\n",
    "        est donc présente 2 fois)'''\n",
    "        all_cities = list(self.map.locations.keys())\n",
    "        current_cities = cities_state(state)\n",
    "        \n",
    "        if current_cities[-1] != current_cities[0]:\n",
    "            return False\n",
    "        \n",
    "        for city in all_cities:\n",
    "            if city not in current_cities:\n",
    "                return False\n",
    "        \n",
    "        return True\n",
    "    \n",
    "    \n",
    "    def action_cost(self, s, action, s1):\n",
    "        '''Le coût de l'action pour aller de l'état s à l'état s1 correspond à la distance réelle\n",
    "        entre la dernière ville de l'état s et la dernière ville de l'état s1'''\n",
    "        return self.map.distance(cities_state(s)[-1], cities_state(s1)[-1])\n",
    "    \n",
    "    \n",
    "    def h(self, node):\n",
    "        '''Distance à vol d'oiseau minimum entre la dernière ville visitée de l'état de node\n",
    "        et les villes non encore visitées'''\n",
    "        heuristic = []\n",
    "        coord_start = self.map.location(cities_state(node.state)[-1])\n",
    "        for i in self.actions(node.state):\n",
    "            heuristic.append(GRC(coord_start, self.map.locations[i]).km)\n",
    "        return heuristic\n",
    "\n",
    "\n",
    "# autres fonctions\n",
    "\n",
    "def g(n): \n",
    "    return n.path_cost"
   ]
  },
  {
   "attachments": {},
   "cell_type": "markdown",
   "metadata": {},
   "source": [
    "### Test des méthodes de la classe `MusicTourProblem`"
   ]
  },
  {
   "cell_type": "code",
   "execution_count": 247,
   "metadata": {},
   "outputs": [
    {
     "name": "stdout",
     "output_type": "stream",
     "text": [
      "\n",
      "Test de la méthode actions()\n",
      "actions possibles à partir de  <Nantes>  :  ['Caen', 'Rennes', 'Angers', 'Le Mans', 'Clermont-Ferrand', 'La Rochelle']\n",
      "actions possibles à partir de  <Nantes ; Le Mans ; Angers ; Nantes>  :  ['Caen', 'Rennes', 'Clermont-Ferrand', 'La Rochelle']\n",
      "actions possibles à partir de  <Nantes ; Le Mans ; Angers ; Nantes ; Rennes>  :  ['Caen']\n",
      "actions possibles à partir de  <Nantes ; Angers ; Le Mans ; Rennes ; Caen ; Orléans ; Clermont-Ferrand ; Toulouse ; Bordeaux ; La Rochelle>  :  []\n",
      "actions possibles à partir de  <Nantes ; Angers ; Le Mans ; Rennes ; Caen ; Orléans ; Clermont-Ferrand ; Toulouse ; Bordeaux ; La Rochelle ; Nantes>  :  []\n"
     ]
    }
   ],
   "source": [
    "# création de la tournée musicale 1\n",
    "music1 = MusicTourProblem(initial=\"Nantes\", map=tour1)\n",
    "\n",
    "node1 = Node(\"Nantes\")\n",
    "node2 = Node(\"Nantes ; Le Mans ; Nantes\")\n",
    "node3 = Node(\"Nantes ; Le Mans ; Angers ; Nantes\")\n",
    "node4 = Node(\"Nantes ; Le Mans ; Angers ; Nantes ; Rennes\")\n",
    "node5 = Node(\"Nantes ; Angers ; Le Mans ; Rennes ; Caen ; Orléans ; Clermont-Ferrand ; Toulouse ; Bordeaux ; La Rochelle\")\n",
    "nodeFin = Node(\"Nantes ; Angers ; Le Mans ; Rennes ; Caen ; Orléans ; Clermont-Ferrand ; Toulouse ; Bordeaux ; La Rochelle ; Nantes\")\n",
    "\n",
    "\n",
    "\n",
    "# test des méthodes de la classe MusicTourProblem\n",
    "print(\"\\nTest de la méthode actions()\")\n",
    "print(\"actions possibles à partir de \", node1, \" : \", music1.actions(node1.state))\n",
    "print(\"actions possibles à partir de \", node3, \" : \", music1.actions(node3.state))\n",
    "print(\"actions possibles à partir de \", node4, \" : \", music1.actions(node4.state))\n",
    "print(\"actions possibles à partir de \", node5, \" : \", music1.actions(node5.state))\n",
    "print(\"actions possibles à partir de \", nodeFin, \" : \", music1.actions(nodeFin.state))\n",
    "\n",
    "\n",
    "print(\"\\nTest de la méthode result()\")\n",
    "print('état résultat obtenu à partir de \"', node1.state, '\" et \"Rennes\" : \"', music1.result(node1.state, 'Rennes'), '\"')\n",
    "print('état résultat obtenu à partir de \"', node5.state, '\" et \"Nantes\" : \"', music1.result(node5.state, 'Nantes'), '\"')\n",
    "\n",
    "print(\"\\nTest de la méthode is_goal()\")\n",
    "print(str(node3), \" noeud final ? \", music1.is_goal(node3.state))\n",
    "print(str(nodeFin), \" noeud final ? \", music1.is_goal(nodeFin.state))\n",
    "\n",
    "print(\"\\nTest de la méthode action_cost()\")\n",
    "print(\"coût de l'action entre \", node3, \" et \", node4, \" : \", music1.action_cost(node3.state, 'Rennes', node4.state))\n",
    "\n",
    "print(\"\\nTest de la méthode h()\")\n",
    "print('heuristique pour ', node1, ' : ', music1.h(node1))# correspond à la distance à vol d'oiseau entre Nantes et Angers\n",
    "print('heuristique pour ', node3, ' : ', music1.h(node3))# correspond à la distance à vol d'oiseau entre Nantes et Rennes\n"
   ]
  },
  {
   "attachments": {},
   "cell_type": "markdown",
   "metadata": {},
   "source": [
    "### Question 3 : tester les différents algorithmes de recherche non informés et informés, en affichant le chemin obtenu et la distance totale sur ce chemin."
   ]
  },
  {
   "cell_type": "code",
   "execution_count": null,
   "metadata": {},
   "outputs": [],
   "source": [
    "# test des algorithmes de recherche sur la carte tour1\n",
    "music1 = MusicTourProblem(initial='Nantes', map=tour1)\n",
    "\n",
    "\n"
   ]
  },
  {
   "attachments": {},
   "cell_type": "markdown",
   "metadata": {},
   "source": [
    "### Question 4 : comparer les différents algorithmes de recherche, en termes de nombre de noeuds générés, nombre de noeuds développés et temps de calcul (pour la carte donnée, tour1)"
   ]
  },
  {
   "cell_type": "code",
   "execution_count": null,
   "metadata": {},
   "outputs": [],
   "source": [
    "# code à compléter"
   ]
  },
  {
   "attachments": {},
   "cell_type": "markdown",
   "metadata": {},
   "source": [
    "### Question 5 (bonus) : afficher le chemin obtenu, en affichant une carte de la France, les villes choisies et le chemin obtenu (pour chacun des algorithmes de recherche)."
   ]
  },
  {
   "cell_type": "code",
   "execution_count": null,
   "metadata": {},
   "outputs": [],
   "source": [
    "# code à compléter"
   ]
  },
  {
   "attachments": {},
   "cell_type": "markdown",
   "metadata": {},
   "source": [
    "### Question 6 (bonus) : ajouter des villes dans la carte de départ et exécuter à nouveau les différents algorithmes de recherche, en affichant les résultats obtenus sur la carte de la France. Pour calculer les coordonnées gps des villes ajoutées ainsi que les distances entre ces villes et les villes déjà présentes, vous pouvez utiliser l'API d'Open Street Map (`OSMPythonTools` : https://wiki.openstreetmap.org/wiki/OSMPythonTools)."
   ]
  },
  {
   "cell_type": "code",
   "execution_count": null,
   "metadata": {},
   "outputs": [],
   "source": [
    "# test des algorithmes de recherche sur la carte tour2 (à compléter)\n",
    "tour2 = Map(\n",
    "    {},\n",
    "    {})\n",
    "\n",
    "music2 = MusicTourProblem(initial='Nantes', map=tour2)\n"
   ]
  },
  {
   "attachments": {},
   "cell_type": "markdown",
   "metadata": {},
   "source": [
    "### Question 7 (bonus) : comparer les différents algorithmes de recherche, en termes de nombre de noeuds générés, nombre de noeuds développés et temps de calcul (pour la carte que vous aurez créée, tour2)"
   ]
  },
  {
   "cell_type": "code",
   "execution_count": null,
   "metadata": {},
   "outputs": [],
   "source": [
    "# code à compléter"
   ]
  }
 ],
 "metadata": {
  "kernelspec": {
   "display_name": "base",
   "language": "python",
   "name": "python3"
  },
  "language_info": {
   "codemirror_mode": {
    "name": "ipython",
    "version": 3
   },
   "file_extension": ".py",
   "mimetype": "text/x-python",
   "name": "python",
   "nbconvert_exporter": "python",
   "pygments_lexer": "ipython3",
   "version": "3.11.1"
  },
  "orig_nbformat": 4,
  "vscode": {
   "interpreter": {
    "hash": "81117c8c447e168d9a38a96a9ef319fcd55e71c398ce2c2fd7c7a590e37bb453"
   }
  }
 },
 "nbformat": 4,
 "nbformat_minor": 2
}
