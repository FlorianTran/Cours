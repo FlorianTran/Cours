{
 "cells": [
  {
   "attachments": {},
   "cell_type": "markdown",
   "metadata": {},
   "source": [
    "# Résolution de labyrinthes\n",
    "\n",
    "Dans ce sujet de TP, sur 4 séances, nous allons voir comment implémenter la formalisation d'un problème de résolution par l'exploration ainsi que les différents algorithmes de recherche vus en cours puis en TD. Nous verrons enfin comment utiliser cela pour effectuer la résolution de labyrinthes.\n",
    "\n",
    "Le code fourni est tiré à la fois du code disponible sur le git associé au livre \"Artificial Intelligence: a Modern Approach\" (https://github.com/aimacode/aima-python) et sur le site de Jean-Pierre Becirspahic, enseignant en PC* (https://pc-etoile.schola.fr/travaux-pratiques-dinformatique/)."
   ]
  },
  {
   "cell_type": "code",
   "execution_count": 42,
   "metadata": {},
   "outputs": [],
   "source": [
    "from numpy.random import randint\n",
    "import matplotlib.pyplot as plt\n",
    "import random\n",
    "import heapq\n",
    "import math\n",
    "import sys\n",
    "from collections import defaultdict, deque, Counter\n",
    "from itertools import combinations"
   ]
  },
  {
   "attachments": {},
   "cell_type": "markdown",
   "metadata": {},
   "source": [
    "# Définition d'un problème\n",
    "\n",
    "On commence par définir une classe abstraite pour représenter un `Problem` qui sera résolu par l'exploration.\n",
    "\n",
    "On indique l'état initial et soit l'état final (s'il y en a un seul), soit la manière de savoir si on se trouve dans un état final (en redéfinissant la méthode `is_goal`, dans la sous-classe qui implémente la classe `Problem`). La sous-classe devra également implémenter le constructeur `__init__`(en ajoutant éventuellement d'autres paramètres) et les méthodes `actions`, `result` `action_cost` et `h`. \n"
   ]
  },
  {
   "cell_type": "code",
   "execution_count": 43,
   "metadata": {},
   "outputs": [],
   "source": [
    "class Problem:\n",
    "    \"\"\"The abstract class for a formal problem. A new domain subclasses this,\n",
    "    overriding `actions` and `results`, and perhaps other methods.\n",
    "    The default action cost is 1 for all states.\n",
    "    When you create an instance of a subclass, specify `initial`, and `goal` states \n",
    "    (or give an `is_goal` method) and perhaps other arguments for the subclass.\"\"\"\n",
    "\n",
    "\n",
    "    def __init__(self, initial=None, goal=None): \n",
    "        \"\"\"The constructor specifies the initial state, and possibly a goal\n",
    "        state, if there is a unique goal. Your subclass's constructor can add\n",
    "        other arguments.\"\"\"\n",
    "        self.initial = initial\n",
    "        self.goal = goal\n",
    "        \n",
    "    def actions(self, state):     \n",
    "        \"\"\"Return the actions that can be executed in the given\n",
    "        state. The result would typically be a list, but if there are\n",
    "        many actions, consider yielding them one at a time in an\n",
    "        iterator, rather than building them all at once.\"\"\"   \n",
    "        raise NotImplementedError\n",
    "    \n",
    "    def result(self, state, action): \n",
    "        \"\"\"Return the state that results from executing the given\n",
    "        action in the given state. The action must be one of\n",
    "        self.actions(state).\"\"\"\n",
    "        raise NotImplementedError\n",
    "    \n",
    "    def is_goal(self, state):   \n",
    "        \"\"\"Return True if the state is a goal. The default method compares the\n",
    "        state to self.goal or checks for state in self.goal if it is a\n",
    "        list, as specified in the constructor.\"\"\"     \n",
    "        return state == self.goal\n",
    "    \n",
    "    def action_cost(self, s, a, s1): \n",
    "        \"\"\"Return the cost of an action a from state s to state s1.\"\"\"\n",
    "        return 1\n",
    "    \n",
    "    def h(self, node):  \n",
    "        \"\"\"Returns least possible cost to reach a goal for the state in given node.\"\"\"             \n",
    "        return 0\n",
    "    \n",
    "    def __str__(self):\n",
    "        return '{}({!r}, {!r})'.format(\n",
    "            type(self).__name__, self.initial, self.goal)"
   ]
  },
  {
   "attachments": {},
   "cell_type": "markdown",
   "metadata": {},
   "source": [
    "# Définition d'un noeud\n",
    "\n",
    "Dans la classe `Node`, on définit un noeud dans un arbre de recherche.\n",
    "Le noeud contient un pointeur vers son noeud parent `parent` ainsi que vers l'état `state` auquel il correspond (la notion d'état sera défini au moment de la définition du problème représenté). Il est à noter que si un état peut être atteint par 2 chemins, il y aura alors 2 noeuds contenant le même état. Le noeud contient également l'action `action` qui a permis d'atteindre l'état associé au noeud ainsi que le coût total `path_cost` du chemin allant du noeud initial au noeud courant (correspondant à la valeur g dans les algorithmes d'exploration)."
   ]
  },
  {
   "cell_type": "code",
   "execution_count": 44,
   "metadata": {},
   "outputs": [],
   "source": [
    "class Node:\n",
    "    \"A Node in a search tree.\"\n",
    "    def __init__(self, state, parent=None, action=None, path_cost=0):\n",
    "        self.state = state\n",
    "        self.parent = parent\n",
    "        self.action = action\n",
    "        self.path_cost = path_cost\n",
    "\n",
    "    def __repr__(self): \n",
    "        return '<{}>'.format(self.state)\n",
    "    \n",
    "    def __len__(self): \n",
    "        return 0 if self.parent is None else (1 + len(self.parent))\n",
    "    \n",
    "    def __lt__(self, other): \n",
    "        return self.path_cost < other.path_cost\n",
    "    "
   ]
  },
  {
   "attachments": {},
   "cell_type": "markdown",
   "metadata": {},
   "source": [
    "## Fonctions relatives aux noeuds d'un arbre de recherche\n",
    "\n",
    "On définit également quelques fonctions sur les noeuds : `expand` pour générer les noeuds successeurs d'un noeud donné, `path_actions` pour récupérer la liste d'actions ayant permis d'arriver jusqu'au noeud et `path_states` pour récupérer la liste des états ayant permis d'arriver jusqu'au noeud.\n",
    "\n",
    "### Question 1 : compléter ces 3 fonctions"
   ]
  },
  {
   "cell_type": "code",
   "execution_count": 45,
   "metadata": {},
   "outputs": [],
   "source": [
    "def expand(problem, node):\n",
    "    \"Expand a node, generating the children nodes (see slide 18 in the lecture).\"\n",
    "    s = node.state\n",
    "    succs = []\n",
    "    for action in problem.actions(s):\n",
    "        s1 = problem.result(s, action)\n",
    "        cost = node.path_cost + problem.action_cost(s, action, s1)\n",
    "        succs.append(Node(s1, node, action, cost))\n",
    "    return succs\n",
    "        \n",
    "\n",
    "def path_actions(node):\n",
    "    \"The list of actions to get to this node.\"\n",
    "    if node.parent is None:\n",
    "        return []  \n",
    "    return path_actions(node.parent) + [node.action]\n",
    "\n",
    "\n",
    "def path_states(node):\n",
    "    \"The list of states to get to this node.\"\n",
    "    #if node in (failure, None): \n",
    "    if node.parent is None:\n",
    "        return [node.state]\n",
    "    return path_states(node.parent) + [node.state]"
   ]
  },
  {
   "attachments": {},
   "cell_type": "markdown",
   "metadata": {},
   "source": [
    "# Différents types de files pour implémenter la frontière\n",
    "\n",
    "Les files FIFO et LIFO sont utilisées, respectivement, pour implémenter la `frontière` dans l'exploration en largeur et dans l'exploration en profondeur. La file de priorié `PriorityQueue` est utilisée dans l'exploration gloutonne et dans l'exploration A* pour garder la frontière triée en fonction du score croissant `f(item)`."
   ]
  },
  {
   "cell_type": "code",
   "execution_count": 46,
   "metadata": {},
   "outputs": [],
   "source": [
    "FIFOQueue = deque\n",
    "\n",
    "LIFOQueue = list\n",
    "\n",
    "class PriorityQueue:\n",
    "    \"\"\"A queue in which the item with minimum f(item) is always popped first.\"\"\"\n",
    "\n",
    "    def __init__(self, items=(), key=lambda x: x): \n",
    "        self.key = key\n",
    "        self.items = [] # a heap of (score, item) pairs\n",
    "        for item in items:\n",
    "            self.add(item)\n",
    "         \n",
    "    def add(self, item):\n",
    "        \"\"\"Add item to the queue.\"\"\"\n",
    "        pair = (self.key(item), item)\n",
    "        heapq.heappush(self.items, pair)\n",
    "\n",
    "    def pop(self):\n",
    "        \"\"\"Pop and return the item with min f(item) value.\"\"\"\n",
    "        return heapq.heappop(self.items)[1]\n",
    "    \n",
    "    def top(self): \n",
    "        return self.items[0][1]\n",
    "\n",
    "    def __len__(self): \n",
    "        return len(self.items)\n"
   ]
  },
  {
   "attachments": {},
   "cell_type": "markdown",
   "metadata": {},
   "source": [
    "# Algorithmes de recherche\n",
    "\n",
    "Les algorithmes de recherche non-informée (exploration en largeur et exploration en profondeur, en mémorisant ou non les états déjà exploras) ainsi que les algorithmes de recherche informée (exploration gloutonne et A*) seront implémentés ici."
   ]
  },
  {
   "cell_type": "code",
   "execution_count": 47,
   "metadata": {},
   "outputs": [],
   "source": [
    "# Noeud particulier pour indiquer qu'un algorithme ne peut pas trouver de solution    \n",
    "failure = Node('failure', path_cost=math.inf)"
   ]
  },
  {
   "attachments": {},
   "cell_type": "markdown",
   "metadata": {},
   "source": [
    "## Exploration en largeur de l'arbre de recherche\n",
    "\n",
    "### Question 2 : implémenter l'exploration en largeur de l'arbre de recherche (voir slides 18 et 20 du cours)"
   ]
  },
  {
   "cell_type": "code",
   "execution_count": 48,
   "metadata": {},
   "outputs": [],
   "source": [
    "def breadth_first_tree_search(problem):\n",
    "    \"\"\"Search the shallowest nodes in the search tree first.\n",
    "    Search through the successors of a problem to find a goal.\n",
    "    The argument frontier should be an empty queue.\n",
    "    Repeats infinitely in case of loops.\"\"\"\n",
    "    frontier = FIFOQueue([Node(problem.initial)])  # FIFO queue\n",
    "\n",
    "    while frontier:\n",
    "        node = frontier.popleft()\n",
    "        #print(node)\n",
    "        if problem.is_goal(node.state):\n",
    "            return node\n",
    "        frontier.extend(expand(problem, node))\n",
    "    return None"
   ]
  },
  {
   "attachments": {},
   "cell_type": "markdown",
   "metadata": {},
   "source": [
    "## Exploration en profondeur de l'arbre de recherche\n",
    "\n",
    "### Question 3 : implémenter l'exploration en profondeur de l'arbre de recherche (voir slides 18 et 21 du cours)"
   ]
  },
  {
   "cell_type": "code",
   "execution_count": 49,
   "metadata": {},
   "outputs": [],
   "source": [
    "def depth_first_tree_search(problem):\n",
    "    \"\"\"Search the deepest nodes in the search tree first.\n",
    "    Search through the successors of a problem to find a goal.\n",
    "    The argument frontier should be an empty queue.\n",
    "    Repeats infinitely in case of loops.\n",
    "    \"\"\"\n",
    "    frontier = LIFOQueue([Node(problem.initial)])  # Stack\n",
    "\n",
    "    while frontier:\n",
    "        node = frontier.pop()\n",
    "        if problem.is_goal(node.state):\n",
    "            return node\n",
    "        frontier.extend(expand(problem, node))\n",
    "    return None"
   ]
  },
  {
   "attachments": {},
   "cell_type": "markdown",
   "metadata": {},
   "source": [
    "## Exploration en largeur du graphe des états\n",
    "\n",
    "### Question 4 : implémenter l'exploration en largeur du graphe des états (voir slide 27 du cours)"
   ]
  },
  {
   "cell_type": "code",
   "execution_count": 50,
   "metadata": {},
   "outputs": [],
   "source": [
    "def breadth_first_graph_search(problem):\n",
    "    \"\"\"Search the shallowest nodes in the search tree first.\n",
    "    Search through the successors of a problem to find a goal.\n",
    "    The argument frontier should be an empty queue.\n",
    "    Does not get trapped by loops.\n",
    "    If two paths reach a state, only use the first one.\n",
    "    \"\"\"\n",
    "    node = Node(problem.initial)\n",
    "    if problem.is_goal(node.state):\n",
    "        return node\n",
    "    frontier = FIFOQueue([node])\n",
    "    explored = set()\n",
    "    while frontier:\n",
    "        node = frontier.popleft()\n",
    "        if problem.is_goal(node.state):\n",
    "            return node\n",
    "        explored.add(node.state)\n",
    "        for child in expand(problem, node):\n",
    "            if child.state not in explored and child not in frontier:\n",
    "                frontier.append(child)\n",
    "    return None"
   ]
  },
  {
   "attachments": {},
   "cell_type": "markdown",
   "metadata": {},
   "source": [
    "## Exploration en profondeur du graphe des états\n",
    "\n",
    "### Question 5 : implémenter l'exploration en profondeur du graphe des états (voir slide 27 du cours)"
   ]
  },
  {
   "cell_type": "code",
   "execution_count": 51,
   "metadata": {},
   "outputs": [],
   "source": [
    "def depth_first_graph_search(problem):\n",
    "    \"\"\"Search the deepest nodes in the search tree first.\n",
    "    Search through the successors of a problem to find a goal.\n",
    "    The argument frontier should be an empty queue.\n",
    "    Does not get trapped by loops.\n",
    "    If two paths reach a state, only use the first one.\n",
    "    \"\"\"\n",
    "    frontier = LIFOQueue([(Node(problem.initial))])  # Stack\n",
    "\n",
    "    explored = set()\n",
    "    while frontier:\n",
    "        node = frontier.pop()\n",
    "        if problem.is_goal(node.state):\n",
    "            return node\n",
    "        explored.add(node.state)\n",
    "        frontier.extend(child for child in expand(problem, node)\n",
    "                        if child.state not in explored and child not in frontier)\n",
    "    return None"
   ]
  },
  {
   "attachments": {},
   "cell_type": "markdown",
   "metadata": {},
   "source": [
    "## Exploration gloutonne de l'arbre de recherche"
   ]
  },
  {
   "cell_type": "code",
   "execution_count": 52,
   "metadata": {},
   "outputs": [],
   "source": [
    "def greedy_tree_search(problem, h=None):\n",
    "    \"\"\"Search nodes with minimum h(n).\"\"\"\n",
    "    node = Node(problem.initial)\n",
    "    frontier = PriorityQueue([node], key=h)\n",
    "    while frontier:\n",
    "        node = frontier.pop()\n",
    "        if problem.is_goal(node.state):\n",
    "            return node\n",
    "        for child in expand(problem, node):\n",
    "            frontier.add(child)\n",
    "    return failure"
   ]
  },
  {
   "attachments": {},
   "cell_type": "markdown",
   "metadata": {},
   "source": [
    "## Exploration gloutonne du graphe des états\n",
    "\n",
    "### Question 6 : implémenter l'exploration gloutonne du graphe des états (voir slides 27 et 34 du cours)"
   ]
  },
  {
   "cell_type": "code",
   "execution_count": 53,
   "metadata": {},
   "outputs": [],
   "source": [
    "def greedy_graph_search(problem, h=None):\n",
    "    \"\"\"Search nodes with minimum h(n).\"\"\"\n",
    "    node = Node(problem.initial)\n",
    "    frontier = PriorityQueue([node], key=h)\n",
    "    reached = {problem.initial: node}\n",
    "    while frontier:\n",
    "        node = frontier.pop()\n",
    "        if problem.is_goal(node.state):\n",
    "            return node\n",
    "        for child in expand(problem, node):\n",
    "            s = child.state\n",
    "            if s not in reached or child.path_cost < reached[s].path_cost:\n",
    "                reached[s] = child\n",
    "                frontier.add(child)\n",
    "    return failure"
   ]
  },
  {
   "attachments": {},
   "cell_type": "markdown",
   "metadata": {},
   "source": [
    "## Exploration A* de l'arbre de recherche"
   ]
  },
  {
   "cell_type": "code",
   "execution_count": 54,
   "metadata": {},
   "outputs": [],
   "source": [
    "def astar_tree_search(problem, f=None):\n",
    "    \"\"\"Search nodes with minimum f(n) = g(n) + h(n).\"\"\"\n",
    "    node = Node(problem.initial)\n",
    "    frontier = PriorityQueue([node], key=f)\n",
    "    while frontier:\n",
    "        node = frontier.pop()\n",
    "        if problem.is_goal(node.state):\n",
    "            return node\n",
    "        for child in expand(problem, node):\n",
    "            frontier.add(child)\n",
    "    return failure"
   ]
  },
  {
   "attachments": {},
   "cell_type": "markdown",
   "metadata": {},
   "source": [
    "## Exploration A* du graphe des états\n",
    "\n",
    "### Question 7 : implémenter l'exploration A* du graphe des états (voir slides 27 et 37 du cours)"
   ]
  },
  {
   "cell_type": "code",
   "execution_count": 55,
   "metadata": {},
   "outputs": [],
   "source": [
    "def astar_graph_search(problem, f=None):\n",
    "    \"\"\"Search nodes with minimum f(n) = g(n) + h(n).\"\"\"\n",
    "    node = Node(problem.initial)\n",
    "    frontier = PriorityQueue([node], key=f)\n",
    "    reached = {problem.initial: node}\n",
    "    while frontier:\n",
    "        node = frontier.pop()\n",
    "        if problem.is_goal(node.state):\n",
    "            return node\n",
    "        for child in expand(problem, node):\n",
    "            s = child.state\n",
    "            if s not in reached or child.path_cost < reached[s].path_cost:\n",
    "                reached[s] = child\n",
    "                frontier.add(child)\n",
    "    return failure"
   ]
  },
  {
   "attachments": {},
   "cell_type": "markdown",
   "metadata": {},
   "source": [
    "# Définition d'un labyrinthe\n",
    "\n",
    "On commence par définir la classe `Cell` (pour représenter les cases d'un labyrinthe) puis la classe `Labyrinth` pour représenter le labyrinthe constitué de cases.\n"
   ]
  },
  {
   "cell_type": "code",
   "execution_count": 56,
   "metadata": {},
   "outputs": [],
   "source": [
    "from numpy.random import randint\n",
    "import matplotlib.pyplot as plt\n",
    "\n",
    "\n",
    "class Stack:\n",
    "    \"\"\" définition d'une pile à l'aide de la classe List \"\"\"\n",
    "    def __init__(self, lst=[]):\n",
    "        self.lst = lst\n",
    "\n",
    "    def __repr__(self): \n",
    "        return str(self.lst)\n",
    "    \n",
    "    def empty(self):\n",
    "        return self.lst == []\n",
    "\n",
    "    def push(self, x):\n",
    "        self.lst.append(x)\n",
    "\n",
    "    def pop(self):\n",
    "        if self.empty():\n",
    "            raise ValueError(\"pile vide\")\n",
    "        return self.lst.pop()\n",
    "\n",
    "\n",
    "class Cell:\n",
    "    def __init__(self, N=False, E=False, S=False, W=False):\n",
    "        self.N = N\n",
    "        self.E = E\n",
    "        self.S = S\n",
    "        self.W = W\n",
    "        \n",
    "\n",
    "class Labyrinth:\n",
    "    def __init__(self, p, q, tab=None):\n",
    "        self.p = p\n",
    "        self.q = q\n",
    "        if tab == None:\n",
    "            self.tab = [[Cell() for j in range(q)] for i in range(p)]\n",
    "        else:\n",
    "            self.tab = tab\n",
    "        \n",
    "    def entrance(self):\n",
    "        return (0, 0)\n",
    "\n",
    "    def exit(self):\n",
    "        return (self.p-1, self.q-1)\n",
    "\n",
    "    def create(self):\n",
    "        pile = Stack()\n",
    "        dejavu = [[False for j in range(self.q)] for i in range(self.p)]\n",
    "        i, j = randint(self.p), randint(self.q)\n",
    "        pile.push((i, j))\n",
    "        dejavu[i][j] = True\n",
    "        while not pile.empty():\n",
    "            (i, j) = pile.pop()\n",
    "            v = []\n",
    "            if j < self.q-1 and not dejavu[i][j+1]:\n",
    "                v.append('E')\n",
    "            if i > 0 and not dejavu[i-1][j]:\n",
    "                v.append('N')\n",
    "            if j > 0 and not dejavu[i][j-1]:\n",
    "                v.append('W')\n",
    "            if i < self.p-1 and not dejavu[i+1][j]:\n",
    "                v.append('S')\n",
    "            if len(v) > 1:\n",
    "                pile.push((i, j))\n",
    "            if len(v) > 0:\n",
    "                c = v[randint(len(v))]\n",
    "                if c == 'N':\n",
    "                    self.tab[i][j].N = True\n",
    "                    self.tab[i-1][j].S = True\n",
    "                    dejavu[i-1][j] = True\n",
    "                    pile.push((i-1, j))\n",
    "                elif c == 'W':\n",
    "                    self.tab[i][j].W = True\n",
    "                    self.tab[i][j-1].E = True\n",
    "                    dejavu[i][j-1] = True\n",
    "                    pile.push((i, j-1))\n",
    "                elif c == 'S':\n",
    "                    self.tab[i][j].S = True\n",
    "                    self.tab[i+1][j].N = True\n",
    "                    dejavu[i+1][j] = True\n",
    "                    pile.push((i+1, j))\n",
    "                else:\n",
    "                    self.tab[i][j].E = True\n",
    "                    self.tab[i][j+1].W = True\n",
    "                    dejavu[i][j+1] = True\n",
    "                    pile.push((i, j+1))\n",
    "\n",
    "    def show(self, sol=Stack()):\n",
    "        fig = plt.figure(1, figsize=(self.q/3.2, self.p/3.2))\n",
    "        ax = fig.add_subplot(111)\n",
    "        ax.axis([-1, self.q+1, -1, self.p+1])\n",
    "        ax.get_xaxis().set_visible(False)\n",
    "        ax.get_yaxis().set_visible(False)\n",
    "        ax.plot([0, 0, self.q, self.q, 0],\n",
    "                 [0, self.p, self.p, 0, 0], linewidth=2)\n",
    "        for i in range(self.p-1):\n",
    "            for j in range(self.q):\n",
    "                if not self.tab[i][j].S:\n",
    "                    ax.plot([j, j+1], [self.p-i-1, self.p-i-1], 'b')\n",
    "        for j in range(self.q-1):\n",
    "            for i in range(self.p):\n",
    "                if not self.tab[i][j].E:\n",
    "                    ax.plot([j+1, j+1], [self.p-i, self.p-i-1], 'b')\n",
    "        if not sol.empty():\n",
    "            X, Y = [], []\n",
    "            #for k in range(len(sol)):\n",
    "            while not sol.empty():\n",
    "                (i, j) = sol.pop()\n",
    "                X.append(j+.5)\n",
    "                Y.append(self.p-i-.5)\n",
    "            ax.plot(X, Y, 'r', linewidth=2)\n",
    "        plt.show()"
   ]
  },
  {
   "attachments": {},
   "cell_type": "markdown",
   "metadata": {},
   "source": [
    "## Test de la classe Labyrinth"
   ]
  },
  {
   "cell_type": "code",
   "execution_count": 57,
   "metadata": {},
   "outputs": [
    {
     "data": {
      "image/png": "[encoded data removed]",
      "text/plain": [
       "<Figure size 750x468.75 with 1 Axes>"
      ]
     },
     "metadata": {},
     "output_type": "display_data"
    },
    {
     "name": "stdout",
     "output_type": "stream",
     "text": [
      "entrée : (0, 0)\n",
      "sortie : (14, 23)\n"
     ]
    },
    {
     "data": {
      "image/png": "[encoded data removed]",
      "text/plain": [
       "<Figure size 125x156.25 with 1 Axes>"
      ]
     },
     "metadata": {},
     "output_type": "display_data"
    },
    {
     "name": "stdout",
     "output_type": "stream",
     "text": [
      "entrée : (0, 0)\n",
      "sortie : (4, 3)\n"
     ]
    }
   ],
   "source": [
    "# création et affichage d'un labyrinthe généré aléatoirement, ayant un seul chemin de l'entrée vers la sortie\n",
    "lab1 = Labyrinth(15, 24)\n",
    "lab1.create()\n",
    "lab1.show()\n",
    "\n",
    "print(\"entrée : \" + str(lab1.entrance()))\n",
    "print(\"sortie : \" + str(lab1.exit()))\n",
    "\n",
    "\n",
    "# création et affichage d'un labyrinthe à partir d'un tableau de cellules, indiquant les murs autour de chaque case\n",
    "tab = [\n",
    "    [Cell(False, True, True, False), Cell(False, True, False, True), Cell(False, True, True, True), Cell(False, False, True, True)],\n",
    "    [Cell(True, True, False, False), Cell(False, False, False, True), Cell(True, False, True, False), Cell(True, False, True, False)],\n",
    "    [Cell(False, True, True, False), Cell(False, True, False, True), Cell(True, False, True, True), Cell(True, False, True, False)],\n",
    "    [Cell(True, False, False, False), Cell(False, True, True, False), Cell(False, False, False, True), Cell(True, False, True, False)],\n",
    "    [Cell(False, True, False, False), Cell(True, True, False, True), Cell(False, True, False, True), Cell(True, False, False, True)],\n",
    "]\n",
    "\n",
    "lab2 = Labyrinth(5, 4, tab)\n",
    "lab2.show()\n",
    "\n",
    "print(\"entrée : \" + str(lab2.entrance()))\n",
    "print(\"sortie : \" + str(lab2.exit()))"
   ]
  },
  {
   "attachments": {},
   "cell_type": "markdown",
   "metadata": {},
   "source": [
    "# Résolution de labyrinthe\n",
    "\n",
    "La résolution d'un problème de type labyrinthe implique de naivguer dans une grille 2D avec des cases pouvant contenir des murs dans les 4 directions autour de chaque case (nord, est, sud et ouest). Il est nécessaire d'avoir un attribut `labyrinth` pour représenter le labyrinthe.\n",
    "Les états sont les positions des cellules sous la forme `(x, y)`, comme par exemple, `(4, 2)`. \n",
    "Les actions sont représentées sous la forme de mouvements `(dx, dy)` d'une case à une autre, tel que `(0, -1)`, ce qui signifie ne pas modifier la coordonnée `x` et décrémenté la coordonnée `y` de 1."
   ]
  },
  {
   "attachments": {},
   "cell_type": "markdown",
   "metadata": {},
   "source": [
    "### Question 8 : compléter les méthodes de la classe `LabyrinthProblem`, en reprenant celles de la classe `Problem` que vous souhaitez implémenter"
   ]
  },
  {
   "cell_type": "code",
   "execution_count": 58,
   "metadata": {},
   "outputs": [],
   "source": [
    "class LabyrinthProblem(Problem):\n",
    "    \n",
    "    def __init__(self, labyrinth):\n",
    "        super().__init__(initial=labyrinth.entrance(), goal=labyrinth.exit())\n",
    "        self.labyrinth = labyrinth\n",
    "    \n",
    "        \n",
    "    def actions(self, state):\n",
    "        x, y = state\n",
    "        possible_directions = []\n",
    "\n",
    "        if self.labyrinth.tab[x][y].N:\n",
    "            possible_directions.append(\"H\")\n",
    "        if self.labyrinth.tab[x][y].E:\n",
    "            possible_directions.append(\"D\")\n",
    "        if self.labyrinth.tab[x][y].S:\n",
    "            possible_directions.append(\"B\")\n",
    "        if self.labyrinth.tab[x][y].W:\n",
    "            possible_directions.append(\"G\")\n",
    "        return possible_directions\n",
    "    \n",
    "    \n",
    "    def result(self, state, action): \n",
    "        \"\"\"Both states and actions are represented by (x, y) pairs. \n",
    "            On suppose que l'action est forcément possible, à partir de l'état state.\n",
    "        \"\"\"\n",
    "        x, y = state\n",
    "        if action == \"H\":\n",
    "            return (x-1, y)\n",
    "        elif action == \"D\":\n",
    "            return (x, y+1)\n",
    "        elif action == \"B\":\n",
    "            return (x+1, y)\n",
    "        else: #\"G\"\n",
    "            return (x, y-1)\n",
    "    \n",
    "    \n",
    "    def h(self, node):\n",
    "        \"\"\"The Manhattan heuristic.\"\"\"\n",
    "        x, y = node.state\n",
    "        xg, yg = self.goal\n",
    "        return abs(x - xg) + abs(y - yg)\n",
    "\n",
    "\n",
    "# autres fonctions\n",
    "\n",
    "def g(n): \n",
    "    return n.path_cost\n"
   ]
  },
  {
   "attachments": {},
   "cell_type": "markdown",
   "metadata": {},
   "source": [
    "### Question 9 : tester la résolution de problèmes de labyrinthes, en utilisant la classe `LabyrinthProblem`, ainsi que les fonctions correspondant aux différents algorithmes de recherche + affichage du chemin parcouru, sur le labyrinthe"
   ]
  },
  {
   "cell_type": "code",
   "execution_count": 59,
   "metadata": {},
   "outputs": [
    {
     "data": {
      "image/png": "[encoded data removed]",
      "text/plain": [
       "<Figure size 125x156.25 with 1 Axes>"
      ]
     },
     "metadata": {},
     "output_type": "display_data"
    },
    {
     "name": "stdout",
     "output_type": "stream",
     "text": [
      "\n",
      "exploration en largeur (en arbre)\n",
      "\tétats sur le chemin vers la sortie : [(0, 0), (0, 1), (0, 2), (0, 3), (1, 3), (2, 3), (3, 3), (4, 3)]\n",
      "\tactions sur le chemin vers la sortie : ['D', 'D', 'D', 'B', 'B', 'B', 'B']\n"
     ]
    },
    {
     "data": {
      "image/png": "[encoded data removed]",
      "text/plain": [
       "<Figure size 125x156.25 with 1 Axes>"
      ]
     },
     "metadata": {},
     "output_type": "display_data"
    },
    {
     "name": "stdout",
     "output_type": "stream",
     "text": [
      "\n",
      "exploration en profondeur (en arbre)\n",
      "\n",
      "exploration en largeur (en graphe)\n",
      "\tétats sur le chemin vers la sortie : [(0, 0), (0, 1), (0, 2), (0, 3), (1, 3), (2, 3), (3, 3), (4, 3)]\n",
      "\tactions sur le chemin vers la sortie : ['D', 'D', 'D', 'B', 'B', 'B', 'B']\n"
     ]
    },
    {
     "data": {
      "image/png": "[encoded data removed]",
      "text/plain": [
       "<Figure size 125x156.25 with 1 Axes>"
      ]
     },
     "metadata": {},
     "output_type": "display_data"
    },
    {
     "name": "stdout",
     "output_type": "stream",
     "text": [
      "\n",
      "exploration en profondeur (en graphe)\n",
      "\tétats sur le chemin vers la sortie : [(0, 0), (0, 1), (0, 2), (1, 2), (2, 2), (3, 2), (3, 1), (4, 1), (4, 2), (4, 3)]\n",
      "\tactions sur le chemin vers la sortie : ['D', 'D', 'B', 'B', 'B', 'G', 'B', 'D', 'D']\n"
     ]
    },
    {
     "data": {
      "image/png": "[encoded data removed]",
      "text/plain": [
       "<Figure size 125x156.25 with 1 Axes>"
      ]
     },
     "metadata": {},
     "output_type": "display_data"
    },
    {
     "name": "stdout",
     "output_type": "stream",
     "text": [
      "\n",
      "exploration gloutonne (en arbre)\n",
      "\tétats sur le chemin vers la sortie : [(0, 0), (0, 1), (0, 2), (0, 3), (1, 3), (2, 3), (3, 3), (4, 3)]\n",
      "\tactions sur le chemin vers la sortie : ['D', 'D', 'D', 'B', 'B', 'B', 'B']\n"
     ]
    },
    {
     "data": {
      "image/png": "[encoded data removed]",
      "text/plain": [
       "<Figure size 125x156.25 with 1 Axes>"
      ]
     },
     "metadata": {},
     "output_type": "display_data"
    },
    {
     "name": "stdout",
     "output_type": "stream",
     "text": [
      "\n",
      "exploration gloutonne (en graphe)\n",
      "\tétats sur le chemin vers la sortie : [(0, 0), (0, 1), (0, 2), (0, 3), (1, 3), (2, 3), (3, 3), (4, 3)]\n",
      "\tactions sur le chemin vers la sortie : ['D', 'D', 'D', 'B', 'B', 'B', 'B']\n"
     ]
    },
    {
     "data": {
      "image/png": "[encoded data removed]",
      "text/plain": [
       "<Figure size 125x156.25 with 1 Axes>"
      ]
     },
     "metadata": {},
     "output_type": "display_data"
    },
    {
     "name": "stdout",
     "output_type": "stream",
     "text": [
      "\n",
      "exploration A* (en arbre)\n",
      "\tétats sur le chemin vers la sortie : [(0, 0), (0, 1), (0, 2), (0, 3), (1, 3), (2, 3), (3, 3), (4, 3)]\n",
      "\tactions sur le chemin vers la sortie : ['D', 'D', 'D', 'B', 'B', 'B', 'B']\n"
     ]
    },
    {
     "data": {
      "image/png": "[encoded data removed]",
      "text/plain": [
       "<Figure size 125x156.25 with 1 Axes>"
      ]
     },
     "metadata": {},
     "output_type": "display_data"
    },
    {
     "name": "stdout",
     "output_type": "stream",
     "text": [
      "\n",
      "exploration A* (en graphe)\n",
      "\tétats sur le chemin vers la sortie : [(0, 0), (0, 1), (0, 2), (0, 3), (1, 3), (2, 3), (3, 3), (4, 3)]\n",
      "\tactions sur le chemin vers la sortie : ['D', 'D', 'D', 'B', 'B', 'B', 'B']\n"
     ]
    },
    {
     "data": {
      "image/png": "[encoded data removed]",
      "text/plain": [
       "<Figure size 125x156.25 with 1 Axes>"
      ]
     },
     "metadata": {},
     "output_type": "display_data"
    }
   ],
   "source": [
    "labProb2 = LabyrinthProblem(labyrinth=lab2)\n",
    "labProb2.labyrinth.show()\n",
    "\n",
    "print(\"\\nexploration en largeur (en arbre)\")\n",
    "res2bt = breadth_first_tree_search(labProb2)\n",
    "etats2bt = path_states(res2bt)\n",
    "print(\"\\tétats sur le chemin vers la sortie : \" + str(etats2bt))\n",
    "print(\"\\tactions sur le chemin vers la sortie : \" + str(path_actions(res2bt)))\n",
    "labProb2.labyrinth.show(Stack(etats2bt))\n",
    "\n",
    "print(\"\\nexploration en profondeur (en arbre)\")\n",
    "#res2dt = depth_first_tree_search(labProb2)\n",
    "#etats2dt = path_states(res2dt)\n",
    "#print(\"\\tétats sur le chemin vers la sortie : \" + str(etats2dt)))\n",
    "#print(\"\\tactions sur le chemin vers la sortie : \" + str(path_actions(res2dt)))\n",
    "#labProb2.labyrinth.show(Stack(etats2dt))\n",
    "\n",
    "print(\"\\nexploration en largeur (en graphe)\")\n",
    "res2bg = breadth_first_graph_search(labProb2)\n",
    "etats2bg = path_states(res2bg)\n",
    "print(\"\\tétats sur le chemin vers la sortie : \" + str(etats2bg))\n",
    "print(\"\\tactions sur le chemin vers la sortie : \" + str(path_actions(res2bg)))\n",
    "labProb2.labyrinth.show(Stack(etats2bg))\n",
    "\n",
    "print(\"\\nexploration en profondeur (en graphe)\")\n",
    "res2dg = depth_first_graph_search(labProb2)\n",
    "etats2dg = path_states(res2dg)\n",
    "print(\"\\tétats sur le chemin vers la sortie : \" + str(etats2dg))\n",
    "print(\"\\tactions sur le chemin vers la sortie : \" + str(path_actions(res2dg)))\n",
    "labProb2.labyrinth.show(Stack(etats2dg))\n",
    "\n",
    "print(\"\\nexploration gloutonne (en arbre)\")\n",
    "res2gt = greedy_tree_search(labProb2, labProb2.h)\n",
    "etats2gt = path_states(res2gt)\n",
    "print(\"\\tétats sur le chemin vers la sortie : \" + str(etats2gt))\n",
    "print(\"\\tactions sur le chemin vers la sortie : \" + str(path_actions(res2gt)))\n",
    "labProb2.labyrinth.show(Stack(etats2gt))\n",
    "\n",
    "print(\"\\nexploration gloutonne (en graphe)\")\n",
    "res2gg = greedy_graph_search(labProb2, labProb2.h)\n",
    "etats2gg = path_states(res2gg)\n",
    "print(\"\\tétats sur le chemin vers la sortie : \" + str(etats2gg))\n",
    "print(\"\\tactions sur le chemin vers la sortie : \" + str(path_actions(res2gg)))\n",
    "labProb2.labyrinth.show(Stack(etats2gg))\n",
    "\n",
    "print(\"\\nexploration A* (en arbre)\")\n",
    "res2at = astar_tree_search(labProb2, f=lambda n: g(n) + labProb2.h(n))\n",
    "etats2at = path_states(res2at)\n",
    "print(\"\\tétats sur le chemin vers la sortie : \" + str(etats2at))\n",
    "print(\"\\tactions sur le chemin vers la sortie : \" + str(path_actions(res2at)))\n",
    "labProb2.labyrinth.show(Stack(etats2at))\n",
    "\n",
    "print(\"\\nexploration A* (en graphe)\")\n",
    "res2ag = astar_graph_search(labProb2, f=lambda n: g(n) + labProb2.h(n))\n",
    "etats2ag = path_states(res2ag)\n",
    "print(\"\\tétats sur le chemin vers la sortie : \" + str(etats2ag))\n",
    "print(\"\\tactions sur le chemin vers la sortie : \" + str(path_actions(res2ag)))\n",
    "labProb2.labyrinth.show(Stack(etats2ag))\n"
   ]
  }
 ],
 "metadata": {
  "kernelspec": {
   "display_name": "base",
   "language": "python",
   "name": "python3"
  },
  "language_info": {
   "codemirror_mode": {
    "name": "ipython",
    "version": 3
   },
   "file_extension": ".py",
   "mimetype": "text/x-python",
   "name": "python",
   "nbconvert_exporter": "python",
   "pygments_lexer": "ipython3",
   "version": "3.8.5"
  },
  "orig_nbformat": 4,
  "vscode": {
   "interpreter": {
    "hash": "81117c8c447e168d9a38a96a9ef319fcd55e71c398ce2c2fd7c7a590e37bb453"
   }
  }
 },
 "nbformat": 4,
 "nbformat_minor": 2
}
